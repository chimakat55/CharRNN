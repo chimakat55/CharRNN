{
  "cells": [
    {
      "cell_type": "code",
      "source": [
        "import time\n",
        "import random\n",
        "!pip install unidecode\n",
        "import unidecode\n",
        "import string\n",
        "import re\n",
        "\n",
        "import matplotlib.pyplot as plt\n",
        "import torch\n",
        "\n",
        "torch.backends.cudnn.deterministic = True"
      ],
      "metadata": {
        "colab": {
          "base_uri": "https://localhost:8080/"
        },
        "id": "ovvcbfYolN9N",
        "outputId": "00543ab7-3349-407d-f611-4f52061204a6"
      },
      "execution_count": null,
      "outputs": [
        {
          "output_type": "stream",
          "name": "stdout",
          "text": [
            "Looking in indexes: https://pypi.org/simple, https://us-python.pkg.dev/colab-wheels/public/simple/\n",
            "Collecting unidecode\n",
            "  Downloading Unidecode-1.3.6-py3-none-any.whl (235 kB)\n",
            "\u001b[?25l     \u001b[90m━━━━━━━━━━━━━━━━━━━━━━━━━━━━━━━━━━━━━━━━\u001b[0m \u001b[32m0.0/235.9 kB\u001b[0m \u001b[31m?\u001b[0m eta \u001b[36m-:--:--\u001b[0m\r\u001b[2K     \u001b[90m━━━━━━━━━━━━━━━━━━━━━━━━━━━━━━━━━━━━━━━\u001b[0m \u001b[32m235.9/235.9 kB\u001b[0m \u001b[31m6.8 MB/s\u001b[0m eta \u001b[36m0:00:00\u001b[0m\n",
            "\u001b[?25hInstalling collected packages: unidecode\n",
            "Successfully installed unidecode-1.3.6\n"
          ]
        }
      ]
    },
    {
      "cell_type": "code",
      "source": [
        "RANDOM_SEED = 123\n",
        "torch.manual_seed(RANDOM_SEED)\n",
        "\n",
        "DEVICE = torch.device('cpu')\n",
        "\n",
        "TEXT_PORTION_SIZE = 200\n",
        "\n",
        "NUM_ITER = 5000\n",
        "LEARNING_RATE = 0.005\n",
        "EMBEDDING_DIM = 100\n",
        "HIDDEN_DIM = 128\n",
        "\n",
        "print('Device:', DEVICE)"
      ],
      "metadata": {
        "colab": {
          "base_uri": "https://localhost:8080/"
        },
        "id": "V3Si7rl3lSe7",
        "outputId": "ce1280eb-73a7-4227-dab2-07484b68f567"
      },
      "execution_count": null,
      "outputs": [
        {
          "output_type": "stream",
          "name": "stdout",
          "text": [
            "Device: cpu\n"
          ]
        }
      ]
    },
    {
      "cell_type": "code",
      "source": [
        "string.printable"
      ],
      "metadata": {
        "colab": {
          "base_uri": "https://localhost:8080/",
          "height": 35
        },
        "id": "2lSUctXwlUtK",
        "outputId": "190a7eb8-22ef-4084-f17e-683d88313871"
      },
      "execution_count": null,
      "outputs": [
        {
          "output_type": "execute_result",
          "data": {
            "text/plain": [
              "'0123456789abcdefghijklmnopqrstuvwxyzABCDEFGHIJKLMNOPQRSTUVWXYZ!\"#$%&\\'()*+,-./:;<=>?@[\\\\]^_`{|}~ \\t\\n\\r\\x0b\\x0c'"
            ],
            "application/vnd.google.colaboratory.intrinsic+json": {
              "type": "string"
            }
          },
          "metadata": {},
          "execution_count": 3
        }
      ]
    },
    {
      "cell_type": "code",
      "source": [
        "with open('shakespeare.txt', 'r') as f:\n",
        "    textfile = f.read()\n",
        "\n",
        "TEXT_LENGTH = len(textfile)\n",
        "\n",
        "print(f'Number of characters in text: {TEXT_LENGTH}')"
      ],
      "metadata": {
        "colab": {
          "base_uri": "https://localhost:8080/"
        },
        "id": "dYciuv84lWp0",
        "outputId": "311513e1-f8ba-40c6-e9b1-5bcc4daae1cb"
      },
      "execution_count": null,
      "outputs": [
        {
          "output_type": "stream",
          "name": "stdout",
          "text": [
            "Number of characters in text: 4538523\n"
          ]
        }
      ]
    },
    {
      "cell_type": "code",
      "source": [
        "random.seed(RANDOM_SEED)\n",
        "\n",
        "def random_portion(textfile):\n",
        "    start_index = random.randint(0, TEXT_LENGTH - TEXT_PORTION_SIZE)\n",
        "    end_index = start_index + TEXT_PORTION_SIZE + 1\n",
        "    return textfile[start_index:end_index]\n",
        "\n",
        "print(random_portion(textfile))"
      ],
      "metadata": {
        "colab": {
          "base_uri": "https://localhost:8080/"
        },
        "id": "_6ydd11-ldtt",
        "outputId": "0ca0e6da-c760-4f4b-e6b9-7c93774c6f40"
      },
      "execution_count": null,
      "outputs": [
        {
          "output_type": "stream",
          "name": "stdout",
          "text": [
            "in some boats that are not steer'd .\n",
            "\n",
            "\n",
            "The noise is round about us .\n",
            "\n",
            "Let us from it .\n",
            "\n",
            "What pleasure , sir , find we in life , to lock it \n",
            "From action and adventure ?\n",
            "\n",
            "Nay , what hope \n",
            "Have we in hidi\n"
          ]
        }
      ]
    },
    {
      "cell_type": "code",
      "source": [
        "def char_to_tensor(text):\n",
        "    lst = [string.printable.index(c) for c in text]\n",
        "    tensor = torch.tensor(lst).long()\n",
        "    return tensor\n",
        "\n",
        "print(char_to_tensor('abcDEF'))"
      ],
      "metadata": {
        "colab": {
          "base_uri": "https://localhost:8080/"
        },
        "id": "Yk1WkVqzlpo8",
        "outputId": "c863b93a-595e-44f1-f7c4-87eee192dc87"
      },
      "execution_count": null,
      "outputs": [
        {
          "output_type": "stream",
          "name": "stdout",
          "text": [
            "tensor([10, 11, 12, 39, 40, 41])\n"
          ]
        }
      ]
    },
    {
      "cell_type": "code",
      "source": [
        "def draw_random_sample(textfile):    \n",
        "    text_long = char_to_tensor(random_portion(textfile))\n",
        "    inputs = text_long[:-1]\n",
        "    targets = text_long[1:]\n",
        "    return inputs, targets"
      ],
      "metadata": {
        "id": "S__fO4DTlsfd"
      },
      "execution_count": null,
      "outputs": []
    },
    {
      "cell_type": "code",
      "source": [
        "draw_random_sample(textfile)"
      ],
      "metadata": {
        "colab": {
          "base_uri": "https://localhost:8080/"
        },
        "id": "mvIuA8i4lvFy",
        "outputId": "4aa0bca7-d949-46cf-c965-cfa69d847042"
      },
      "execution_count": null,
      "outputs": [
        {
          "output_type": "execute_result",
          "data": {
            "text/plain": [
              "(tensor([20, 14, 28, 94, 30, 28, 94, 29, 17, 14, 23, 94, 15, 24, 27, 94, 15, 24,\n",
              "         24, 21, 28, 94, 73, 96, 55, 24, 94, 29, 27, 34, 94, 18, 15, 94, 29, 17,\n",
              "         10, 29, 94, 24, 30, 27, 94, 24, 32, 23, 94, 11, 14, 94, 24, 30, 27, 28,\n",
              "         94, 24, 27, 94, 23, 24, 94, 75, 96, 96, 44, 94, 28, 25, 14, 10, 20, 94,\n",
              "         23, 24, 29, 94, 29, 24, 94, 29, 17, 10, 29, 94, 27, 10, 18, 21, 18, 23,\n",
              "         16, 94, 43, 14, 12, 10, 29, 14, 94, 73, 96, 37, 30, 29, 94, 30, 23, 29,\n",
              "         24, 94, 29, 17, 14, 14, 94, 73, 94, 36, 21, 14, 23, 94, 24, 23, 94, 73,\n",
              "         94, 10, 23, 13, 94, 29, 17, 14, 94, 27, 14, 28, 29, 94, 78, 96, 58, 18,\n",
              "         21, 21, 94, 34, 14, 94, 73, 94, 21, 18, 20, 14, 94, 28, 24, 21, 13, 18,\n",
              "         14, 27, 28, 94, 73, 94, 12, 24, 22, 14, 94, 10, 23, 13, 94, 15, 18, 16,\n",
              "         17, 29, 94, 18, 29, 94, 24, 30, 29, 94, 82, 96, 96, 54, 18, 16, 23, 18,\n",
              "         24, 27]),\n",
              " tensor([14, 28, 94, 30, 28, 94, 29, 17, 14, 23, 94, 15, 24, 27, 94, 15, 24, 24,\n",
              "         21, 28, 94, 73, 96, 55, 24, 94, 29, 27, 34, 94, 18, 15, 94, 29, 17, 10,\n",
              "         29, 94, 24, 30, 27, 94, 24, 32, 23, 94, 11, 14, 94, 24, 30, 27, 28, 94,\n",
              "         24, 27, 94, 23, 24, 94, 75, 96, 96, 44, 94, 28, 25, 14, 10, 20, 94, 23,\n",
              "         24, 29, 94, 29, 24, 94, 29, 17, 10, 29, 94, 27, 10, 18, 21, 18, 23, 16,\n",
              "         94, 43, 14, 12, 10, 29, 14, 94, 73, 96, 37, 30, 29, 94, 30, 23, 29, 24,\n",
              "         94, 29, 17, 14, 14, 94, 73, 94, 36, 21, 14, 23, 94, 24, 23, 94, 73, 94,\n",
              "         10, 23, 13, 94, 29, 17, 14, 94, 27, 14, 28, 29, 94, 78, 96, 58, 18, 21,\n",
              "         21, 94, 34, 14, 94, 73, 94, 21, 18, 20, 14, 94, 28, 24, 21, 13, 18, 14,\n",
              "         27, 28, 94, 73, 94, 12, 24, 22, 14, 94, 10, 23, 13, 94, 15, 18, 16, 17,\n",
              "         29, 94, 18, 29, 94, 24, 30, 29, 94, 82, 96, 96, 54, 18, 16, 23, 18, 24,\n",
              "         27, 94]))"
            ]
          },
          "metadata": {},
          "execution_count": 8
        }
      ]
    },
    {
      "cell_type": "code",
      "source": [
        "class RNN(torch.nn.Module):\n",
        "    def __init__(self, input_size, embed_size,\n",
        "                 hidden_size, output_size):\n",
        "        super().__init__()\n",
        "\n",
        "        self.hidden_size = hidden_size\n",
        "        \n",
        "        self.embed = torch.nn.Embedding(num_embeddings=input_size,\n",
        "                                        embedding_dim=embed_size)\n",
        "        self.rnn = torch.nn.LSTMCell(input_size=embed_size,\n",
        "                                     hidden_size=hidden_size)\n",
        "        self.fc = torch.nn.Linear(hidden_size, output_size)\n",
        "    \n",
        "    def forward(self, character, hidden, cell_state):\n",
        "        # expects character as size [batch_size, 1]\n",
        "    \n",
        "        # [batch size, embedding dim] = [1, embedding dim]\n",
        "        embedded = self.embed(character)\n",
        "\n",
        "        (hidden, cell_state) = self.rnn(embedded, (hidden, cell_state))\n",
        "        # 1. output dim: [batch size, output_size] = [1, output_size]\n",
        "        # 2. hidden dim: [batch size, hidden dim] = [1, hidden dim]\n",
        "        # 3. cell dim: [batch size, hidden dim] = [1, hidden dim]\n",
        "\n",
        "        output = self.fc(hidden)\n",
        "\n",
        "        return output, hidden, cell_state\n",
        "      \n",
        "    def init_zero_state(self):\n",
        "        init_hidden = torch.zeros(1, self.hidden_size).to(DEVICE)\n",
        "        init_cell = torch.zeros(1, self.hidden_size).to(DEVICE)\n",
        "        return (init_hidden, init_cell)"
      ],
      "metadata": {
        "id": "b4iFJ4KelxKt"
      },
      "execution_count": null,
      "outputs": []
    },
    {
      "cell_type": "code",
      "source": [
        "torch.manual_seed(RANDOM_SEED)\n",
        "model = RNN(len(string.printable), EMBEDDING_DIM, HIDDEN_DIM, len(string.printable))\n",
        "model = model.to(DEVICE)\n",
        "optimizer = torch.optim.Adam(model.parameters(), lr=LEARNING_RATE)"
      ],
      "metadata": {
        "id": "gjG5XFWJl0f4"
      },
      "execution_count": null,
      "outputs": []
    },
    {
      "cell_type": "code",
      "source": [
        "def evaluate(model, prime_str='A', predict_len=100, temperature=0.8):\n",
        "    ## based on https://github.com/spro/practical-pytorch/\n",
        "    ## blob/master/char-rnn-generation/char-rnn-generation.ipynb\n",
        "\n",
        "    (hidden, cell_state) = model.init_zero_state()\n",
        "    prime_input = char_to_tensor(prime_str)\n",
        "    predicted = prime_str\n",
        "\n",
        "    # Use priming string to \"build up\" hidden state\n",
        "    for p in range(len(prime_str) - 1):\n",
        "        inp = prime_input[p].unsqueeze(0)\n",
        "        _, hidden, cell_state = model(inp.to(DEVICE), hidden, cell_state)\n",
        "    inp = prime_input[-1].unsqueeze(0)\n",
        "    \n",
        "    for p in range(predict_len):\n",
        "\n",
        "        outputs, hidden, cell_state = model(inp.to(DEVICE), hidden, cell_state)\n",
        "        \n",
        "        # Sample from the network as a multinomial distribution\n",
        "        output_dist = outputs.data.view(-1).div(temperature).exp() # e^{logits / T}\n",
        "        top_i = torch.multinomial(output_dist, 1)[0]\n",
        "        \n",
        "        # Add predicted character to string and use as next input\n",
        "        predicted_char = string.printable[top_i]\n",
        "        predicted += predicted_char\n",
        "        inp = char_to_tensor(predicted_char)\n",
        "\n",
        "    return predicted"
      ],
      "metadata": {
        "id": "lAQqu98nl3A0"
      },
      "execution_count": null,
      "outputs": []
    },
    {
      "cell_type": "code",
      "source": [
        "start_time = time.time()\n",
        "\n",
        "loss_list = []\n",
        "\n",
        "for iteration in range(NUM_ITER):\n",
        "\n",
        "    hidden, cell_state = model.init_zero_state()\n",
        "    optimizer.zero_grad()\n",
        "    \n",
        "    loss = 0.\n",
        "    inputs, targets = draw_random_sample(textfile)\n",
        "    inputs, targets = inputs.to(DEVICE), targets.to(DEVICE)\n",
        "    \n",
        "    for c in range(TEXT_PORTION_SIZE):\n",
        "        outputs, hidden, cell_state = model(inputs[c].unsqueeze(0), hidden, cell_state)\n",
        "        loss += torch.nn.functional.cross_entropy(outputs, targets[c].view(1))\n",
        "\n",
        "    loss /= TEXT_PORTION_SIZE\n",
        "    loss.backward()\n",
        "\n",
        "\n",
        "    ### UPDATE MODEL PARAMETERS\n",
        "    optimizer.step()\n",
        "\n",
        "\n",
        "    ### LOGGING\n",
        "    with torch.no_grad():\n",
        "        if iteration % 200 == 0:\n",
        "            print(f'Time elapsed: {(time.time() - start_time)/60:.2f} min')\n",
        "            print(f'Iteration {iteration} | Loss {loss.item():.2f}\\n\\n')\n",
        "            print(evaluate(model, 'Th', 200), '\\n')\n",
        "            print(50*'=')\n",
        "            \n",
        "            loss_list.append(loss.item())\n",
        "            plt.clf()\n",
        "            plt.plot(range(len(loss_list)), loss_list)\n",
        "            plt.ylabel('Loss')\n",
        "            plt.xlabel('Iteration x 1000')\n",
        "            plt.savefig('loss1.pdf')\n",
        "            \n",
        "plt.clf()\n",
        "plt.ylabel('Loss')\n",
        "plt.xlabel('Iteration x 1000')\n",
        "plt.plot(range(len(loss_list)), loss_list)\n",
        "plt.show()"
      ],
      "metadata": {
        "colab": {
          "base_uri": "https://localhost:8080/",
          "height": 1000
        },
        "id": "MEoDoqvll54a",
        "outputId": "715e7db1-7e1a-4f8a-cc67-93a8892e6eb5"
      },
      "execution_count": null,
      "outputs": [
        {
          "output_type": "stream",
          "name": "stdout",
          "text": [
            "Time elapsed: 0.00 min\n",
            "Iteration 0 | Loss 4.63\n",
            "\n",
            "\n",
            "Th\"(*|0+>}@&F82\r`!AqfpD]^lR2+mgugN\\kM&|;p>@Ky`nxB>#9\\G,YCL]K<F\fe>ns\fOyv)D61an\n",
            "#+#&b~T`-|>=2j(erZ,tz=LbQLBVp*i\u000b\u000bF\\X2YrP+A=DM?Nzx}A#MNh\"XrAWfJ7\"jz {LS\t\"VAb'f:9KbE?tbpM\u000b2c{&! KrE@Ad\n",
            "HK],hftT\n",
            "~{NMf?pP5Cft^* \n",
            "\n",
            "==================================================\n",
            "Time elapsed: 0.36 min\n",
            "Iteration 200 | Loss 2.09\n",
            "\n",
            "\n",
            "Ther ,\n",
            "Watle a I ferog buves the ot beat to hor ,\n",
            "+ove me and conchake wostills bowe sond sore wile that be wand , as of mots my prou , he the that I cour at and hull buthe there ther hepe to swall you  \n",
            "\n",
            "==================================================\n",
            "Time elapsed: 0.62 min\n",
            "Iteration 400 | Loss 1.91\n",
            "\n",
            "\n",
            "Thee an neatireed , two nit the hee with that stand the decher ? on siond , seany , and fir wen hey spast age my twers mustreent mithe a younteir , at laster sain theeis ; with tith a with , hender , ba \n",
            "\n",
            "==================================================\n",
            "Time elapsed: 0.89 min\n",
            "Iteration 600 | Loss 2.02\n",
            "\n",
            "\n",
            "Thar and you lousor my aan or brank'd in , bathering him this .\n",
            "\n",
            "Shis bask in would ?\n",
            "\n",
            "\n",
            "Be seree , her : mose the sporinver s'ber 'tien entor ligh'd the forn stor the shom here no you peit I this sesher \n",
            "\n",
            "==================================================\n",
            "Time elapsed: 1.16 min\n",
            "Iteration 800 | Loss 1.81\n",
            "\n",
            "\n",
            "This wollost and swanit , thearer ,\n",
            "Wht woole ! but mea there sun thon wire con her wame undeas the men the con woll not that with what swere the wrom ,\n",
            "Whem you the for there in made , my weare the din \n",
            "\n",
            "==================================================\n",
            "Time elapsed: 1.42 min\n",
            "Iteration 1000 | Loss 1.77\n",
            "\n",
            "\n",
            "Tho with mone om can I lore more fron a that you leviend , I woo my there thee \n",
            "What me of deat reave to the dark \n",
            "What as in the por you what I sain ,\n",
            "Ho soure he sent ,\n",
            "Awa shalk be pack \n",
            "When mar , y \n",
            "\n",
            "==================================================\n",
            "Time elapsed: 1.68 min\n",
            "Iteration 1200 | Loss 1.93\n",
            "\n",
            "\n",
            "Thou worture to she leave you wecter .\n",
            "\n",
            "I bloody with eare my langed then theie and me withter ; greed ;\n",
            "Hese come of come be you some :\n",
            "They you be it could the mainser \n",
            "That .\n",
            "\n",
            "O , a I we welpus chou  \n",
            "\n",
            "==================================================\n",
            "Time elapsed: 1.95 min\n",
            "Iteration 1400 | Loss 1.64\n",
            "\n",
            "\n",
            "The love sud is so ! I make my thee sheer donger there , as say so he you !\n",
            "But not the bovery fore , the flosts .\n",
            "Loy villout , am your abonnold than thas a to his I pose sir , thought brike with the n \n",
            "\n",
            "==================================================\n",
            "Time elapsed: 2.22 min\n",
            "Iteration 1600 | Loss 1.63\n",
            "\n",
            "\n",
            "Thy diss , not then her ruble he's , sleen \n",
            "Here .\n",
            "\n",
            "Be sir , lath some they nee servent and thy lick ,\n",
            "And some in then be ment thou his do see \n",
            "That shall . Though your noble as your can ! O prece .\n",
            "\n",
            "H \n",
            "\n",
            "==================================================\n",
            "Time elapsed: 2.48 min\n",
            "Iteration 1800 | Loss 1.54\n",
            "\n",
            "\n",
            "The with be with can olst work'd offends had thou well her thou free .\n",
            "\n",
            "Bread give we this have you not they .\n",
            "\n",
            "'Tis they omell is live thou he will but and these a prowered the be my Louse this abains  \n",
            "\n",
            "==================================================\n",
            "Time elapsed: 2.75 min\n",
            "Iteration 2000 | Loss 1.92\n",
            "\n",
            "\n",
            "The patish srow \n",
            "To forly wast not : what brow , and it no Confy him be ?\n",
            "What well it our fatures in all this a spearts and you the hole bast by rush chant , no chat by !\n",
            "Hows chan , will day grod ; an \n",
            "\n",
            "==================================================\n",
            "Time elapsed: 3.02 min\n",
            "Iteration 2200 | Loss 1.66\n",
            "\n",
            "\n",
            "That sterefore shall \n",
            "I pritty my his .\n",
            "\n",
            "To hould shall ouns you dead , thou refols , it , and to his friend you majest out ; myser bother ,\n",
            "If I low , the wother , if through and I to bart this jept ,  \n",
            "\n",
            "==================================================\n",
            "Time elapsed: 3.29 min\n",
            "Iteration 2400 | Loss 1.83\n",
            "\n",
            "\n",
            "The why with of the were that dautes own , 'tis him , and paring . Pry pow , the moy ,\n",
            "I toothess , groced it temper , and farse ?\n",
            "\n",
            "Whin we praider of the be in for his how .\n",
            "To he nothes took and I har \n",
            "\n",
            "==================================================\n",
            "Time elapsed: 3.56 min\n",
            "Iteration 2600 | Loss 1.74\n",
            "\n",
            "\n",
            "The will none not nos ?\n",
            "\n",
            "In and free you theie in thee . Metires , that man these of and to like \n",
            "To home an they hark , le the full you not morten the cond ,\n",
            "And heart the smance , thine , has in all u \n",
            "\n",
            "==================================================\n",
            "Time elapsed: 3.84 min\n",
            "Iteration 2800 | Loss 1.72\n",
            "\n",
            "\n",
            "That , would be of wame ,\n",
            "Such thou pother ,\n",
            "This tell come timmney ,\n",
            "Stee , the sort , take you whick to light wither , 'tis primpet \n",
            "Richint my me .\n",
            "\n",
            "Of you should you your your truich a vert seast wa \n",
            "\n",
            "==================================================\n",
            "Time elapsed: 4.11 min\n",
            "Iteration 3000 | Loss 1.59\n",
            "\n",
            "\n",
            "There's to a cly ?\n",
            "\n",
            "If allity the row to a shall this .\n",
            "\n",
            "O ,\n",
            "Go ; what fall reath again ,\n",
            "What passother in aplite .\n",
            "\n",
            "I take mering , nobsend ;\n",
            "That way ruke of not minesty a made cap .\n",
            "\n",
            "Yet yet with yo \n",
            "\n",
            "==================================================\n",
            "Time elapsed: 4.39 min\n",
            "Iteration 3200 | Loss 1.67\n",
            "\n",
            "\n",
            "Thus your bake is be Kinnou ;\n",
            "Is he pears .\n",
            "\n",
            "While , why , I winds you the carly .\n",
            "\n",
            "I she his must , these I live !\n",
            "\n",
            "They , and not hear thes for thee , my lords vempaimen .\n",
            "But not man , indery .\n",
            "\n",
            "By h \n",
            "\n",
            "==================================================\n",
            "Time elapsed: 4.67 min\n",
            "Iteration 3400 | Loss 1.86\n",
            "\n",
            "\n",
            "The futh a passecuted .\n",
            "\n",
            "Nay be more merction .\n",
            "\n",
            "We art shall exly :\n",
            "I traons , oncome .\n",
            "\n",
            "O ; 'Pip , and would please to shall for shalm'd .\n",
            "\n",
            "He would not constong no ; too thy have many fame hister : h \n",
            "\n",
            "==================================================\n",
            "Time elapsed: 4.94 min\n",
            "Iteration 3600 | Loss 1.82\n",
            "\n",
            "\n",
            "Thopel an your bowe , and hongey , and preak with that shall them , and speak ,\n",
            "When him , and my what this have knwance ! but you , and to you !\n",
            "\n",
            "I am brother .\n",
            "\n",
            "I am leaship , the mands , we creturage \n",
            "\n",
            "==================================================\n",
            "Time elapsed: 5.22 min\n",
            "Iteration 3800 | Loss 1.94\n",
            "\n",
            "\n",
            "The bef me bonger , he conce give me .\n",
            "\n",
            "Now , the mas to will both exceen me . A most this witt give I were no mass to the good : I will to courte , so dief ! this knight , sir her ?\n",
            "\n",
            "Mown I well read ? \n",
            "\n",
            "==================================================\n",
            "Time elapsed: 5.49 min\n",
            "Iteration 4000 | Loss 1.57\n",
            "\n",
            "\n",
            "Thus is nept , land God think his low ,\n",
            "Which with this hearam .\n",
            "\n",
            "My lather place ,\n",
            "I dest , loman weep .\n",
            "\n",
            "And but heed from from thing danger under would .\n",
            "\n",
            "Therefore the read with a see deand as thou  \n",
            "\n",
            "==================================================\n",
            "Time elapsed: 5.77 min\n",
            "Iteration 4200 | Loss 1.74\n",
            "\n",
            "\n",
            "The not you sweet their such man of when bein clacked be where same .\n",
            "\n",
            "Is in they his leaves cour of thy lord sas or her propock ! I meadolence tend my best , thouse in what cause once not \n",
            "Mast , I cal \n",
            "\n",
            "==================================================\n",
            "Time elapsed: 6.04 min\n",
            "Iteration 4400 | Loss 1.61\n",
            "\n",
            "\n",
            "That not heaver is spoke .\n",
            "\n",
            "\n",
            "But court of his begain awaiss out \n",
            "Should rast of he as be streft ;\n",
            "Sir , hower , fall , that the from hand , to a prock ?\n",
            "\n",
            "Your lay !\n",
            "\n",
            "What that ! Come the prince ! That l \n",
            "\n",
            "==================================================\n",
            "Time elapsed: 6.31 min\n",
            "Iteration 4600 | Loss 1.88\n",
            "\n",
            "\n",
            "The men he loy thou noble is thus so love .\n",
            "\n",
            "\n",
            "And I have before retreat his leaven to born what they , have now , thought , all that , there outlight repeave of Prire of his abong ,\n",
            "My stome of him this \n",
            "\n",
            "==================================================\n",
            "Time elapsed: 6.58 min\n",
            "Iteration 4800 | Loss 1.75\n",
            "\n",
            "\n",
            "Ther qull'd all be Thou did by you where it so , and be do in the garce there of the pays .\n",
            "\n",
            "You hou , I amperse courts , you wise and well ;\n",
            "And daughtainness anten for lade it ,\n",
            "Beglabd , let be deldo \n",
            "\n",
            "==================================================\n"
          ]
        },
        {
          "output_type": "display_data",
          "data": {
            "text/plain": [
              "<Figure size 640x480 with 1 Axes>"
            ],
            "image/png": "[encoded data removed]"
          },
          "metadata": {}
        }
      ]
    },
    {
      "cell_type": "code",
      "source": [
        "## Calculating ACc\n",
        "\n",
        "def calculate_accuracy(predictions, targets):\n",
        "    correct = 0\n",
        "    total = 0\n",
        "    for pred, target in zip(predictions, targets):\n",
        "        if pred == target:\n",
        "            correct += 1\n",
        "        total += 1\n",
        "    accuracy = correct / total\n",
        "    return accuracy"
      ],
      "metadata": {
        "id": "AHLHeZGYWtAf"
      },
      "execution_count": null,
      "outputs": []
    }
  ],
  "metadata": {
    "colab": {
      "provenance": []
    },
    "kernelspec": {
      "display_name": "Python 3",
      "name": "python3"
    },
    "language_info": {
      "name": "python"
    }
  },
  "nbformat": 4,
  "nbformat_minor": 0
}